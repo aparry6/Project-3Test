{
 "cells": [
  {
   "cell_type": "code",
   "execution_count": null,
   "metadata": {},
   "outputs": [],
   "source": [
    "import numpy as np\n",
    "\n",
    "import sqlalchemy\n",
    "from sqlalchemy.ext.automap import automap_base\n",
    "from sqlalchemy.orm import Session\n",
    "from sqlalchemy import create_engine, func, inspect\n",
    "import pandas as pd\n",
    "import os \n",
    "from flask import Flask, jsonify, render_template"
   ]
  },
  {
   "cell_type": "code",
   "execution_count": null,
   "metadata": {},
   "outputs": [],
   "source": [
    "engine = create_engine(\"sqlite:///data/nobel_prize.db\")\n",
    "\n",
    "inspector = inspect(engine)\n",
    "print(inspector.get_table_names())\n",
    "# reflect an existing database into a new model\n",
    "Base = automap_base()\n",
    "# reflect the tables\n",
    "Base.prepare(autoload_with=engine, reflect = True)\n",
    "\n",
    "# Save reference to the table\n",
    "Winners = Base.classes.recipients\n"
   ]
  },
  {
   "cell_type": "code",
   "execution_count": null,
   "metadata": {},
   "outputs": [],
   "source": [
    "app = Flask(__name__)\n",
    "\n",
    "#################################################\n",
    "# Flask Routes\n",
    "#################################################\n",
    "\n",
    "@app.route(\"/\")\n",
    "def welcome():\n",
    "    \"\"\"List all available api routes.\"\"\"\n",
    "    return render_template('index.html')"
   ]
  },
  {
   "cell_type": "code",
   "execution_count": null,
   "metadata": {},
   "outputs": [],
   "source": [
    "@app.route(\"/api/v1.0/Year\")\n",
    "def Year():\n",
    "    #Create our session (link) from Python to the DB\n",
    "    session = Session(engine)\n",
    "\n",
    "    #Query all years\n",
    "    results = session.query(Winners.Year).all()\n",
    "\n",
    "    session.close()\n",
    "\n",
    "    return jsonify(results)"
   ]
  },
  {
   "cell_type": "code",
   "execution_count": null,
   "metadata": {},
   "outputs": [],
   "source": [
    "@app.route(\"/api/v1.0/Name\")\n",
    "def Name():\n",
    "    #Create our session (link) from Python to the DB\n",
    "    session = Session(engine)\n",
    "\n",
    "    #Query all names\n",
    "    results = session.query(Winners.Name).all()\n",
    "\n",
    "    session.close()\n",
    "\n",
    "    # Convert list of tuples into normal list\n",
    "    all_names = list(np.ravel(results))\n",
    "\n",
    "    return jsonify(all_names)\n"
   ]
  },
  {
   "cell_type": "code",
   "execution_count": null,
   "metadata": {},
   "outputs": [],
   "source": [
    "@app.route(\"/api/v1.0/Gender\")\n",
    "def Gender():\n",
    "    #Create our session (link) from Python to the DB\n",
    "    session = Session(engine)\n",
    "\n",
    "    #Query gender for all \n",
    "    results = session.query(Winners.Gender).all()\n",
    "\n",
    "    session.close()\n",
    "\n",
    "    return jsonify(results)"
   ]
  },
  {
   "cell_type": "code",
   "execution_count": 7,
   "metadata": {},
   "outputs": [],
   "source": [
    "@app.route(\"/api/v1.0/Winners\")\n",
    "def Winners():\n",
    "    #Create our session (link) from Python to the DB\n",
    "    session = Session(engine)\n",
    "\n",
    "    #Query all Winners with information for markers\n",
    "    results = session.query(Winners.Name, Winners.Year, Winners.Category, \n",
    "                            Winners.Gender, Winners.Motivation, Winners.Birth_Date,\n",
    "                            Winners.Birth_Country, Winners.Death_Date).all()\n",
    "    \n",
    "    session.close()\n",
    "\n",
    "    # Create a dictionary from the row data and append to a list of all_winners\n",
    "    all_winners = []\n",
    "    for Name, Year, Category, Gender, Motivation, Birth_Date, Birth_Country, Death_Date in results:\n",
    "        winner_dict = {}\n",
    "        winner_dict[\"Name\"] = Name\n",
    "        winner_dict[\"Year\"] = Year\n",
    "        winner_dict[\"Category\"] = Category\n",
    "        winner_dict[\"Gender\"] = Gender\n",
    "        winner_dict[\"Motivation\"] = Motivation\n",
    "        winner_dict[\"Birth_Date\"] = Birth_Date\n",
    "        winner_dict[\"Birth_Country\"] = Birth_Country\n",
    "        winner_dict[\"Death_Date\"] = Death_Date\n",
    "        all_winners.append(winner_dict)\n",
    "    \n",
    "    return jsonify(all_winners)\n",
    "\n",
    "\n",
    "if __name__ == '__main__':\n",
    "    app.run(debug=False)\n"
   ]
  }
 ],
 "metadata": {
  "kernelspec": {
   "display_name": "base",
   "language": "python",
   "name": "python3"
  },
  "language_info": {
   "codemirror_mode": {
    "name": "ipython",
    "version": 3
   },
   "file_extension": ".py",
   "mimetype": "text/x-python",
   "name": "python",
   "nbconvert_exporter": "python",
   "pygments_lexer": "ipython3",
   "version": "3.9.13"
  },
  "orig_nbformat": 4
 },
 "nbformat": 4,
 "nbformat_minor": 2
}
